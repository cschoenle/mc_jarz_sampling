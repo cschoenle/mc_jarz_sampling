{
 "cells": [
  {
   "cell_type": "code",
   "execution_count": 1,
   "outputs": [],
   "source": [
    "import os\n",
    "import samplers\n",
    "import samplers_biased\n",
    "import numpy as np\n",
    "import matplotlib.pyplot as plt\n",
    "\n",
    "\n",
    "### run parallel chains on a CPU, adjusted to local system.\n",
    "n_chains = 10\n",
    "os.environ['XLA_FLAGS'] = (\n",
    "    f'--xla_force_host_platform_device_count={n_chains} '\n",
    ")\n",
    "import jax.numpy as jnp\n",
    "import jax\n",
    "\n",
    "### specify the target\n",
    "### p(x,z)=p(z)*p(x|z) with \n",
    "### p(z) Gaussian mixture, p(x|z) Gaussian with mean mux(z) and std sigmax(z)\n",
    "dimx = 19 # dimension of x\n",
    "d = 10. # distance between the two modes\n",
    "w1 = 0.3 # relative weight of the first mode\n",
    "sigmax_vals = np.linspace(0.5, 5, dimx) # width of p(xx|z) for each component of x\n",
    "\n",
    "### Parameters of the sampler\n",
    "choice_sampler = \"SymMala\"\n",
    "z0 = 0. # initial z-value (of the CV)\n",
    "x0val = 5. # initial value of x^\\perp\n",
    "dt = 0.4\n",
    "velocity = 6.5E-3\n",
    "\n",
    "n_steps = 5000\n",
    "\n",
    "# proposal in z is almost the target p(z) but with incorrect weights for the modes\n",
    "w1_proposal = 0.5\n",
    "\n",
    "x0 = jnp.array(dimx*[x0val,])\n",
    "\n",
    "def marginalpz(z):\n",
    "    return 1/jnp.sqrt(2*jnp.pi) * (\n",
    "        w1 * jnp.exp(-0.5 * z**2) \n",
    "        + (1-w1) * jnp.exp(-0.5 * (z-d)**2))\n",
    "\n",
    "def sigmax(z):\n",
    "    return sigmax_vals\n",
    "\n",
    "def mux(z):\n",
    "    return jnp.cos(z/d*np.pi) * d/2\n",
    "\n",
    "def probfull_cond(z, x):\n",
    "    \"\"\"p(x|z)\"\"\"\n",
    "    return 1/((2 * jnp.pi)**(dimx/2) * jnp.prod(sigmax(z))) * jnp.exp(-0.5*jnp.sum(((x-mux(z))/sigmax(z))**2))\n",
    "\n",
    "@jax.jit\n",
    "def probfull(z, x):\n",
    "    return marginalpz(z) * probfull_cond(z, x)\n",
    "\n",
    "@jax.jit\n",
    "def energy(z, x):\n",
    "    return -jnp.log(probfull(z, x))\n",
    "\n",
    "@jax.jit\n",
    "def energy_partialx(z, x):\n",
    "    ### ∂_x -log(p) = -(∂_x p) * 1/p \n",
    "    return 1/sigmax(z)**2 * (x - mux(z))\n",
    "\n",
    "\n",
    "@jax.jit\n",
    "def z_sampler_custom(z,key):\n",
    "    subkeys = jax.random.split(key,4)\n",
    "    key = subkeys[0]\n",
    "    subkeys = subkeys[1:]\n",
    "    coin = jax.random.uniform(subkeys[0]) <= w1_proposal\n",
    "    mode1 = jax.random.normal(subkeys[1])\n",
    "    mode2 = jax.random.normal(subkeys[2]) + d\n",
    "    result = jnp.where(coin, mode1, mode2)\n",
    "    return result, key\n",
    "\n",
    "@jax.jit\n",
    "def z_sampler_log_prob(z, zold):\n",
    "    prob = 1/jnp.sqrt(2*jnp.pi) * (w1_proposal * jnp.exp(-0.5 * z**2) \n",
    "                                   + (1-w1_proposal) * jnp.exp(-0.5 * (z-d)**2))\n",
    "    return jnp.log(prob)\n",
    "\n",
    "key = jax.random.PRNGKey(42)\n",
    "\n",
    "if choice_sampler == \"Asym\":\n",
    "    sampler = samplers.AsymSampler(energy, energy_partialx, z_sampler_custom, z_sampler_log_prob)\n",
    "elif choice_sampler == \"SymMala\":\n",
    "    sampler = samplers.SymMalaSampler(energy, energy_partialx, z_sampler_custom, z_sampler_log_prob)\n",
    "elif choice_sampler == \"SymUla\":\n",
    "    sampler = samplers.SymUlaSampler(energy, energy_partialx, z_sampler_custom, z_sampler_log_prob)\n",
    "elif choice_sampler == \"CoinMala\":\n",
    "    sampler = samplers.CoinMalaSampler(energy, energy_partialx, z_sampler_custom, z_sampler_log_prob)\n",
    "elif choice_sampler == \"CoinUla\":\n",
    "    sampler = samplers.CoinUlaSampler(energy, energy_partialx, z_sampler_custom, z_sampler_log_prob)\n",
    "elif choice_sampler == \"SymUlaBiased\":\n",
    "    sampler = samplers_biased.SymUlaBiasedSampler(energy, energy_partialx, z_sampler_custom, z_sampler_log_prob)\n",
    "elif choice_sampler == \"NoCoinflipUlaBiased\":\n",
    "    sampler = samplers_biased.NoCoinflipUlaBiasedSampler(energy, energy_partialx, z_sampler_custom, z_sampler_log_prob)\n",
    "elif choice_sampler == \"NoCoinflipMalaBiased\":\n",
    "    sampler = samplers_biased.NoCoinflipMalaBiasedSampler(energy, energy_partialx, z_sampler_custom, z_sampler_log_prob)    \n",
    "else:\n",
    "    raise NotImplementedError(\"Unrecognized sampler\")           \n",
    "\n",
    "def get_samples_custom(x0,z0,velocity,dt,key): \n",
    "    global n_steps\n",
    "    return sampler.get_samples(x0,z0,velocity,dt,n_steps, key)"
   ],
   "metadata": {
    "collapsed": false,
    "ExecuteTime": {
     "end_time": "2024-06-18T14:27:06.428176Z",
     "start_time": "2024-06-18T14:27:05.919338Z"
    }
   },
   "id": "6a38c09f05d723e1"
  },
  {
   "cell_type": "code",
   "execution_count": 2,
   "outputs": [],
   "source": [
    "get_samples_custom_parallel = jax.pmap(get_samples_custom, in_axes=(None,None,None,None,0))\n",
    "\n",
    "keys = jax.random.split(key,num=n_chains+1)\n",
    "key = keys[0]\n",
    "subkeys = keys[1:]\n",
    "\n",
    "z_traj_list, x_traj_list, pacc_list,n_inter_traj_list,key_list = get_samples_custom_parallel(x0,z0,velocity,dt,subkeys)\n"
   ],
   "metadata": {
    "collapsed": false,
    "ExecuteTime": {
     "end_time": "2024-06-18T14:27:07.191124Z",
     "start_time": "2024-06-18T14:27:06.590601Z"
    }
   },
   "id": "7e0395d0adb7c22c"
  },
  {
   "cell_type": "code",
   "execution_count": 3,
   "outputs": [
    {
     "data": {
      "text/plain": "Text(0, 0.5, '$p(z)$')"
     },
     "execution_count": 3,
     "metadata": {},
     "output_type": "execute_result"
    },
    {
     "data": {
      "text/plain": "<Figure size 640x480 with 1 Axes>",
      "image/png": "[encoded data removed]"
     },
     "metadata": {},
     "output_type": "display_data"
    }
   ],
   "source": [
    "plt.hist(np.array(z_traj_list).flatten(), bins = 50, density=True);\n",
    "z_values = np.linspace(-3,13)\n",
    "plt.plot(z_values, marginalpz(z_values))\n",
    "plt.xlabel(\"$z$\")\n",
    "plt.ylabel(\"$p(z)$\")"
   ],
   "metadata": {
    "collapsed": false,
    "ExecuteTime": {
     "end_time": "2024-06-18T14:27:18.225589Z",
     "start_time": "2024-06-18T14:27:07.188056Z"
    }
   },
   "id": "be4d680b3b194fa2"
  },
  {
   "cell_type": "code",
   "execution_count": null,
   "outputs": [],
   "source": [],
   "metadata": {
    "collapsed": false
   },
   "id": "5458fbc6ab92b714"
  }
 ],
 "metadata": {
  "kernelspec": {
   "display_name": "Python 3",
   "language": "python",
   "name": "python3"
  },
  "language_info": {
   "codemirror_mode": {
    "name": "ipython",
    "version": 2
   },
   "file_extension": ".py",
   "mimetype": "text/x-python",
   "name": "python",
   "nbconvert_exporter": "python",
   "pygments_lexer": "ipython2",
   "version": "2.7.6"
  }
 },
 "nbformat": 4,
 "nbformat_minor": 5
}
